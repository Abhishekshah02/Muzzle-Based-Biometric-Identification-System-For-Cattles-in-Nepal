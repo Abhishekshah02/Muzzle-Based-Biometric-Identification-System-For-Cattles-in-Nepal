{
 "cells": [
  {
   "cell_type": "markdown",
   "id": "acd21cca",
   "metadata": {},
   "source": [
    "# Identification Process\n",
    "1. A new test muzzle image is passed through the same Gabor+Blob pipeline.\n",
    "\n",
    "2. Extracted features are compared against the feature CSV using Cosine Similarity:\n",
    "$$\n",
    "\\cos(\\theta) = \\frac{A \\cdot B}{\\|A\\|\\|B\\|}\n",
    "$$\n",
    "\n",
    "3. The cattle ID with the highest similarity score is selected as the predicted identity.\n"
   ]
  },
  {
   "cell_type": "code",
   "execution_count": 6,
   "id": "b9118372",
   "metadata": {},
   "outputs": [
    {
     "name": "stdout",
     "output_type": "stream",
     "text": [
      "✅ Matched Cattle ID: cattle-337 | Similarity Score: 1.0000\n"
     ]
    }
   ],
   "source": [
    "import cv2\n",
    "import numpy as np\n",
    "import pandas as pd\n",
    "from skimage.filters import gabor\n",
    "from sklearn.metrics.pairwise import cosine_similarity\n",
    "import os\n",
    "\n",
    "def extract_muzzle_features(image_path):\n",
    "    img = cv2.imread(image_path, cv2.IMREAD_GRAYSCALE)\n",
    "    if img is None:\n",
    "        raise FileNotFoundError(f\"Image not found: {image_path}\")\n",
    "\n",
    "    # Gabor filter\n",
    "    frequency = 0.2\n",
    "    gabor_res, _ = gabor(img, frequency=frequency)\n",
    "    gabor_img = (gabor_res * 255).astype(np.uint8)\n",
    "\n",
    "    # Blob detection\n",
    "    params = cv2.SimpleBlobDetector_Params()\n",
    "    params.filterByArea = True\n",
    "    params.minArea = 5\n",
    "    params.maxArea = 300\n",
    "    params.filterByCircularity = False\n",
    "    params.filterByConvexity = False\n",
    "    params.filterByInertia = False\n",
    "    detector = cv2.SimpleBlobDetector_create(params)\n",
    "    keypoints = detector.detect(gabor_img)\n",
    "\n",
    "    # Feature vector\n",
    "    blob_count = len(keypoints)\n",
    "    gabor_mean = np.mean(gabor_img)\n",
    "    gabor_std = np.std(gabor_img)\n",
    "\n",
    "    return [blob_count, gabor_mean, gabor_std]\n",
    "\n",
    "def match_to_dataset(new_feature, csv_path):\n",
    "    df = pd.read_csv(csv_path, skiprows=1, names=[\"cattle_id\", \"image_name\", \"blob_count\", \"gabor_mean\", \"gabor_std\"])\n",
    "\n",
    "\n",
    "    features = df[[\"blob_count\", \"gabor_mean\", \"gabor_std\"]].values.astype(float)\n",
    "    cattle_ids = df[\"cattle_id\"].values\n",
    "\n",
    "    # Cosine similarity\n",
    "    sims = cosine_similarity([new_feature], features)[0]\n",
    "    best_idx = np.argmax(sims)\n",
    "    return cattle_ids[best_idx], sims[best_idx]\n",
    "\n",
    "# === Run Matching ===\n",
    "if __name__ == \"__main__\":\n",
    "    test_image = r\"C:\\Users\\Amrit Shah\\Desktop\\Muzzle based Identification\\Muzzle-Based-Biometric-Identification-System-For-Cattles-in-Nepal\\resized_dataset\\cattle-390\\IMG20230924145902_01.jpg\"\n",
    "    csv_path = r\"C:\\Users\\Amrit Shah\\Desktop\\Muzzle based Identification\\muzzle_features.csv\"\n",
    "\n",
    "    feature = extract_muzzle_features(test_image)\n",
    "    match_id, score = match_to_dataset(feature, csv_path)\n",
    "\n",
    "    print(f\"✅ Matched Cattle ID: {match_id} | Similarity Score: {score:.4f}\")\n"
   ]
  }
 ],
 "metadata": {
  "kernelspec": {
   "display_name": "env",
   "language": "python",
   "name": "python3"
  },
  "language_info": {
   "codemirror_mode": {
    "name": "ipython",
    "version": 3
   },
   "file_extension": ".py",
   "mimetype": "text/x-python",
   "name": "python",
   "nbconvert_exporter": "python",
   "pygments_lexer": "ipython3",
   "version": "3.11.9"
  }
 },
 "nbformat": 4,
 "nbformat_minor": 5
}
